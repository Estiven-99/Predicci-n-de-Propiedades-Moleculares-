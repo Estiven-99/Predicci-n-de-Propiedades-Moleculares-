{
  "nbformat": 4,
  "nbformat_minor": 0,
  "metadata": {
    "colab": {
      "name": "Untitled2.ipynb",
      "provenance": [],
      "authorship_tag": "ABX9TyOlresAYisQQaPw768uoJoU",
      "include_colab_link": true
    },
    "kernelspec": {
      "name": "python3",
      "display_name": "Python 3"
    },
    "language_info": {
      "name": "python"
    }
  },
  "cells": [
    {
      "cell_type": "markdown",
      "metadata": {
        "id": "view-in-github",
        "colab_type": "text"
      },
      "source": [
        "<a href=\"https://colab.research.google.com/github/Estiven-99/Predicci-n-de-Propiedades-Moleculares-/blob/main/Proyecto%20de%20Predicci%C3%B3n%20Final%20Greedy%20Forest.ipynb\" target=\"_parent\"><img src=\"https://colab.research.google.com/assets/colab-badge.svg\" alt=\"Open In Colab\"/></a>"
      ]
    },
    {
      "cell_type": "markdown",
      "source": [
        "# **Primero debemos importar las librerias que vamos a utilizar, para lo cual se debe descargar el kaggle.json (que es el archivo que se encuentra adjunto) para obtener los datos.**"
      ],
      "metadata": {
        "id": "W5kw9WifhgoU"
      }
    },
    {
      "cell_type": "code",
      "source": [
        "!pip install -U -q kaggle\n",
        "!mkdir -p ~/.kaggle\n",
        "from google.colab import files\n",
        "files.upload()"
      ],
      "metadata": {
        "id": "g9KJxd09hp_g"
      },
      "execution_count": null,
      "outputs": []
    },
    {
      "cell_type": "code",
      "source": [
        "!cp kaggle.json ~/.kaggle/"
      ],
      "metadata": {
        "id": "R8b52v-BhupM"
      },
      "execution_count": null,
      "outputs": []
    },
    {
      "cell_type": "code",
      "source": [
        "!kaggle competitions download -c champs-scalar-coupling"
      ],
      "metadata": {
        "id": "RXUDdKlHhzbA"
      },
      "execution_count": null,
      "outputs": []
    },
    {
      "cell_type": "code",
      "source": [
        "!unzip champs-scalar-coupling.zip"
      ],
      "metadata": {
        "id": "rA7AoDyah1PF"
      },
      "execution_count": null,
      "outputs": []
    },
    {
      "cell_type": "code",
      "source": [
        "import numpy as np \n",
        "import pandas as pd\n",
        "import matplotlib.pyplot as plt\n",
        "import seaborn as sn\n",
        "import warnings\n",
        "warnings.filterwarnings('ignore')\n",
        "from sklearn.metrics import make_scorer,mean_squared_error\n",
        "from sklearn.model_selection import cross_val_score\n",
        "import random\n",
        "random.seed(42)\n",
        "import os\n",
        "#print(os.listdir(\"../input\"))"
      ],
      "metadata": {
        "id": "cMR2oQuKh2NX"
      },
      "execution_count": null,
      "outputs": []
    },
    {
      "cell_type": "markdown",
      "source": [
        "# **Necesitamos los siguientes datos, los cuales hemos descargado y guardado en una carpeta llamada input**"
      ],
      "metadata": {
        "id": "_WTzadVCiEog"
      }
    },
    {
      "cell_type": "code",
      "source": [
        "pot_energy=pd.read_csv('potential_energy.csv')#('../input/potential_energy.csv')\n",
        "mulliken_charges=pd.read_csv('mulliken_charges.csv')#('../input/mulliken_charges.csv')\n",
        "train_df=pd.read_csv('train.csv')#('../input/train.csv')\n",
        "scalar_coupling_cont=pd.read_csv('scalar_coupling_contributions.csv')#('../input/scalar_coupling_contributions.csv')\n",
        "test_df=pd.read_csv('test.csv')#('../input/test.csv')\n",
        "magnetic_shield_tensor=pd.read_csv('magnetic_shielding_tensors.csv')#('../input/magnetic_shielding_tensors.csv')\n",
        "dipole_moment=pd.read_csv('dipole_moments.csv')#('../input/dipole_moments.csv')\n",
        "structures=pd.read_csv('structures.csv')#('../input/structures.csv')"
      ],
      "metadata": {
        "id": "ppjlLRMSh4ua"
      },
      "execution_count": null,
      "outputs": []
    },
    {
      "cell_type": "code",
      "source": [
        "print('Shape of potential energy dataset:',pot_energy.shape)\n",
        "print('Shape of mulliken_charges dataset:',mulliken_charges.shape)\n",
        "print('Shape of train dataset:',train_df.shape)\n",
        "print('Shape of scalar coupling contributions dataset:',scalar_coupling_cont.shape)\n",
        "print('Shape of test dataset:',test_df.shape)\n",
        "print('Shape of magnetic shielding tensors dataset:',magnetic_shield_tensor.shape)\n",
        "print('Shape of dipole moments dataset:',dipole_moment.shape)\n",
        "print('Shape of structures dataset:',structures.shape)"
      ],
      "metadata": {
        "id": "CkBDtsf4iM_A"
      },
      "execution_count": null,
      "outputs": []
    },
    {
      "cell_type": "markdown",
      "source": [
        "# **Iniciamos la exploracion de los dataset**"
      ],
      "metadata": {
        "id": "BlIz014LiSKs"
      }
    },
    {
      "cell_type": "code",
      "source": [
        "#Dataset de energia\n",
        "print('Data Types:\\n',pot_energy.dtypes)\n",
        "print('Descriptive statistics:\\n',np.round(pot_energy.describe(),3))\n",
        "pot_energy.head(6)\n",
        "\n",
        "\n",
        "\n",
        "#Datasetes de la carga\n",
        "print('Data Types:\\n',mulliken_charges.dtypes)\n",
        "print('Descriptive statistics:\\n',np.round(mulliken_charges.describe(),3))\n",
        "mulliken_charges.head(6)\n",
        "\n",
        "\n",
        "#Datasetes \n",
        "print('Data Types:\\n',train_df.dtypes)\n",
        "print('Descriptive statistics:\\n',np.round(train_df.describe(),3))\n",
        "train_df.head(6)\n",
        "\n",
        "\n",
        "\n",
        "#Datasetes del acople escalar\n",
        "print('Data Types:\\n',scalar_coupling_cont.dtypes)\n",
        "print('Descriptive statistics:\\n',np.round(scalar_coupling_cont.describe(),3))\n",
        "scalar_coupling_cont.head(6)\n",
        "\n",
        "#Dataset estadistico\n",
        "print('Data Types:\\n',test_df.dtypes)\n",
        "print('Descriptive statistics:\\n',np.round(test_df.describe(),3))\n",
        "test_df.head(6)\n",
        "\n",
        "#Dataset de tensor de campo magnetico\n",
        "print('Data Types:\\n',magnetic_shield_tensor.dtypes)\n",
        "print('Descriptive statistics:\\n',np.round(magnetic_shield_tensor.describe(),3))\n",
        "magnetic_shield_tensor.head(6)\n",
        "\n",
        "\n",
        "#Dataset de la estructura\n",
        "print('Data Types:\\n',structures.dtypes)\n",
        "print('Descriptive statistics:\\n',np.round(structures.describe(),3))\n",
        "structures.head(6)"
      ],
      "metadata": {
        "id": "T1xB4p4wiP_8"
      },
      "execution_count": null,
      "outputs": []
    },
    {
      "cell_type": "markdown",
      "source": [
        "# **Realizamos un mapa de la estructura atomica y la probamos**"
      ],
      "metadata": {
        "id": "E42_wlbYiZ_2"
      }
    },
    {
      "cell_type": "code",
      "source": [
        "def map_atom_data(df,atom_idx):\n",
        "    df=pd.merge(df,structures,how='left',\n",
        "               left_on=['molecule_name',f'atom_index_{atom_idx}'],\n",
        "               right_on=['molecule_name','atom_index'])\n",
        "    df=df.drop('atom_index',axis=1)\n",
        "    df=df.rename(columns={'atom':f'atom_{atom_idx}',\n",
        "                         'x':f'x_{atom_idx}',\n",
        "                         'y':f'y_{atom_idx}',\n",
        "                         'z':f'z_{atom_idx}'})\n",
        "    return df\n",
        "\n",
        "train_df=map_atom_data(train_df,0)\n",
        "train_df=map_atom_data(train_df,1)\n",
        "\n",
        "test_df=map_atom_data(test_df,0)\n",
        "test_df=map_atom_data(test_df,1)"
      ],
      "metadata": {
        "id": "8dM4CS3LiXMM"
      },
      "execution_count": null,
      "outputs": []
    },
    {
      "cell_type": "code",
      "source": [
        "train_m_0=train_df[['x_0','y_0','z_0']].values\n",
        "train_m_1=train_df[['x_1','y_1','z_1']].values\n",
        "\n",
        "test_m_0=test_df[['x_0','y_0','z_0']].values\n",
        "test_m_1=test_df[['x_0','y_0','z_0']].values\n",
        "\n",
        "\n",
        "train_df['dist_vector']=np.linalg.norm(train_m_0-train_m_1,axis=1)\n",
        "train_df['dist_X']=(train_df['x_0']-train_df['x_1'])**2\n",
        "train_df['dist_Y']=(train_df['y_0']-train_df['y_1'])**2\n",
        "train_df['dist_Z']=(train_df['z_0']-train_df['z_1'])**2\n",
        "\n",
        "\n",
        "test_df['dist_vector']=np.linalg.norm(test_m_0-test_m_1,axis=1)\n",
        "test_df['dist_X']=(test_df['x_0']-test_df['x_1'])**2\n",
        "test_df['dist_Y']=(test_df['y_0']-test_df['y_1'])**2\n",
        "test_df['dist_Z']=(test_df['z_0']-test_df['z_1'])**2"
      ],
      "metadata": {
        "id": "Qe8EysUBieRa"
      },
      "execution_count": null,
      "outputs": []
    },
    {
      "cell_type": "code",
      "source": [
        "train_df['type_0']=train_df['type'].apply(lambda x:x)\n",
        "test_df['type_0']=test_df['type'].apply(lambda x : x)\n",
        "\n",
        "train_df=train_df.drop(columns=['molecule_name','type'],axis=1)\n",
        "display(train_df.head(6))\n",
        "\n",
        "\n",
        "test_df=test_df.drop(columns=['molecule_name','type'],axis=1)\n",
        "display(test_df.head(10))"
      ],
      "metadata": {
        "id": "ViAjYkJdigiW"
      },
      "execution_count": null,
      "outputs": []
    },
    {
      "cell_type": "markdown",
      "source": [
        "# **Hacemos un histograma de visualizacion**"
      ],
      "metadata": {
        "id": "jDf9YEO-ikiS"
      }
    },
    {
      "cell_type": "code",
      "source": [
        "train_df['type_0']=train_df.type_0.astype('category')\n",
        "train_df['atom_0']=train_df.atom_0.astype('category')\n",
        "train_df['atom_1']=train_df.atom_1.astype('category')\n",
        "\n",
        "\n",
        "test_df['type_0']=test_df.type_0.astype('category')\n",
        "test_df['atom_0']=test_df.atom_0.astype('category')\n",
        "test_df['atom_1']=test_df.atom_1.astype('category')"
      ],
      "metadata": {
        "id": "SRG5BLJ3iipY"
      },
      "execution_count": null,
      "outputs": []
    },
    {
      "cell_type": "code",
      "source": [
        "plt.hist(train_df['scalar_coupling_constant'])\n",
        "plt.ylabel('No of times')\n",
        "plt.xlabel('scalar copling constant')\n",
        "plt.show()"
      ],
      "metadata": {
        "id": "irfRwxEDioMK"
      },
      "execution_count": null,
      "outputs": []
    },
    {
      "cell_type": "code",
      "source": [
        "plt.hist(train_df['dist_vector'])\n",
        "plt.ylabel('No of times')\n",
        "plt.xlabel('Distance vector')\n",
        "plt.show()"
      ],
      "metadata": {
        "id": "6rCvNrtHiqIQ"
      },
      "execution_count": null,
      "outputs": []
    },
    {
      "cell_type": "code",
      "source": [
        "plt.hist(train_df['dist_X'])\n",
        "plt.ylabel('No of times')\n",
        "plt.xlabel('X distance vector')\n",
        "plt.show()"
      ],
      "metadata": {
        "id": "-fIf4Ze5ir4s"
      },
      "execution_count": null,
      "outputs": []
    },
    {
      "cell_type": "code",
      "source": [
        "plt.hist(train_df['dist_Y'])\n",
        "plt.ylabel('No of times')\n",
        "plt.xlabel('Y distance vector')\n",
        "plt.show()"
      ],
      "metadata": {
        "id": "HA9JfJpYittr"
      },
      "execution_count": null,
      "outputs": []
    },
    {
      "cell_type": "code",
      "source": [
        "plt.hist(train_df['dist_Z'])\n",
        "plt.ylabel('No of times')\n",
        "plt.xlabel('Z distance vector')\n",
        "plt.show()"
      ],
      "metadata": {
        "id": "1_S1yTy6ivZl"
      },
      "execution_count": null,
      "outputs": []
    },
    {
      "cell_type": "code",
      "source": [
        "train_df.head(5)"
      ],
      "metadata": {
        "id": "29KIOO8ji0aC"
      },
      "execution_count": null,
      "outputs": []
    },
    {
      "cell_type": "code",
      "source": [
        "plt.figure(figsize=(10,8))\n",
        "plt.ylabel('Frequency')\n",
        "plt.xlabel('scalar coupling constant')\n",
        "sn.distplot(train_df['scalar_coupling_constant'])"
      ],
      "metadata": {
        "id": "XiVolbzFi3yY"
      },
      "execution_count": null,
      "outputs": []
    },
    {
      "cell_type": "code",
      "source": [
        "plt.figure(figsize=(10,8))\n",
        "plt.ylabel('Frequency')\n",
        "plt.xlabel('Distance vector')\n",
        "sn.distplot(train_df['dist_vector'])"
      ],
      "metadata": {
        "id": "2FfkBnPJi4UH"
      },
      "execution_count": null,
      "outputs": []
    },
    {
      "cell_type": "code",
      "source": [
        "plt.figure(figsize=(10,8))\n",
        "plt.ylabel('Frequency')\n",
        "plt.xlabel('dist_X')\n",
        "sn.distplot(train_df['dist_X'])"
      ],
      "metadata": {
        "id": "wo8FCEXJi6J-"
      },
      "execution_count": null,
      "outputs": []
    },
    {
      "cell_type": "code",
      "source": [
        "plt.figure(figsize=(10,8))\n",
        "plt.ylabel('Frequency')\n",
        "plt.xlabel('dist_Y')\n",
        "sn.distplot(train_df['dist_Y'])"
      ],
      "metadata": {
        "id": "2VrnFmnAi7wp"
      },
      "execution_count": null,
      "outputs": []
    },
    {
      "cell_type": "code",
      "source": [
        "plt.figure(figsize=(10,8))\n",
        "plt.ylabel('Frequency')\n",
        "plt.xlabel('dist_Z')\n",
        "sn.distplot(train_df['dist_Z'])"
      ],
      "metadata": {
        "id": "AtiXAc87i9iJ"
      },
      "execution_count": null,
      "outputs": []
    },
    {
      "cell_type": "code",
      "source": [
        "Attributes=['atom_index_0','atom_index_1','type_0','x_0','y_0','z_0','atom_0',\n",
        "            'atom_1','x_1','y_1','z_1','dist_vector','dist_X','dist_Y','dist_Z']\n",
        "\n",
        "cat_attributes=['type_0','atom_0','atom_1']\n",
        "target_label=['scalar_coupling_constant']\n",
        "\n",
        "\n",
        "X_train=train_df[Attributes]\n",
        "X_test=test_df[Attributes]\n",
        "y_target=train_df[target_label]"
      ],
      "metadata": {
        "id": "J8nK1jw3i_P9"
      },
      "execution_count": null,
      "outputs": []
    },
    {
      "cell_type": "code",
      "source": [
        "X_train=pd.get_dummies(data=X_train,columns=cat_attributes)\n",
        "X_test=pd.get_dummies(data=X_test,columns=cat_attributes)"
      ],
      "metadata": {
        "id": "xOI01FGKjA_d"
      },
      "execution_count": null,
      "outputs": []
    },
    {
      "cell_type": "code",
      "source": [
        "print(X_train.shape,X_test.shape)"
      ],
      "metadata": {
        "id": "5kZa8ZWjjC0f"
      },
      "execution_count": null,
      "outputs": []
    },
    {
      "cell_type": "code",
      "source": [
        "X_1=X_train\n",
        "y_1=y_target"
      ],
      "metadata": {
        "id": "it43Bvc_jEbT"
      },
      "execution_count": null,
      "outputs": []
    },
    {
      "cell_type": "code",
      "source": [
        "X_train.head(6)\n",
        "y_target.head(6)"
      ],
      "metadata": {
        "id": "PGFChfEwjGWT"
      },
      "execution_count": null,
      "outputs": []
    },
    {
      "cell_type": "code",
      "source": [
        "threshold=0.95\n",
        "\n",
        "corr_matrix=train_df.corr().abs()\n",
        "\n",
        "\n",
        "upper=corr_matrix.where(np.triu(np.ones(corr_matrix.shape),k=1).astype(np.bool))"
      ],
      "metadata": {
        "id": "XWvFoE9DjIA9"
      },
      "execution_count": null,
      "outputs": []
    },
    {
      "cell_type": "code",
      "source": [
        "to_drop=[column for column in upper.columns if any(upper[column]>threshold)]\n",
        "print('There are are %d columns to remove.'%(len(to_drop)))"
      ],
      "metadata": {
        "id": "z-UsNscVjJ72"
      },
      "execution_count": null,
      "outputs": []
    },
    {
      "cell_type": "code",
      "source": [
        "train_df=train_df.drop(columns=to_drop)\n",
        "test_df=test_df.drop(columns=to_drop)\n",
        "print('Training data shape',train_df.shape)\n",
        "print('Testing data shape',test_df.shape)"
      ],
      "metadata": {
        "id": "kJMIObkcjL8V"
      },
      "execution_count": null,
      "outputs": []
    },
    {
      "cell_type": "code",
      "source": [
        "Attributes=['atom_index_0','atom_index_1','type_0','x_0','y_0','z_0','atom_0',\n",
        "            'atom_1','x_1','y_1','z_1','dist_vector','dist_X','dist_Y','dist_Z']\n",
        "\n",
        "cat_attributes=['type_0','atom_0','atom_1']\n",
        "target_label=['scalar_coupling_constant']\n",
        "\n",
        "\n",
        "X_train=train_df[Attributes]\n",
        "X_test=test_df[Attributes]\n",
        "y_target=train_df[target_label]"
      ],
      "metadata": {
        "id": "1pHgKw6CjNg5"
      },
      "execution_count": null,
      "outputs": []
    },
    {
      "cell_type": "code",
      "source": [
        "X_train=pd.get_dummies(data=X_train,columns=cat_attributes)\n",
        "X_test=pd.get_dummies(data=X_test,columns=cat_attributes)"
      ],
      "metadata": {
        "id": "V0v7DgU6jPbh"
      },
      "execution_count": null,
      "outputs": []
    },
    {
      "cell_type": "code",
      "source": [
        "print(X_train.shape,X_test.shape)"
      ],
      "metadata": {
        "id": "W6ZKABWJjRay"
      },
      "execution_count": null,
      "outputs": []
    },
    {
      "cell_type": "code",
      "source": [
        "display(y_target.shape)"
      ],
      "metadata": {
        "id": "fd7X0kT4jTkK"
      },
      "execution_count": null,
      "outputs": []
    },
    {
      "cell_type": "code",
      "source": [
        "X_2=X_train\n",
        "y_2=y_target"
      ],
      "metadata": {
        "id": "EM8txSI5jV_Y"
      },
      "execution_count": null,
      "outputs": []
    },
    {
      "cell_type": "code",
      "source": [
        "X_train.head(6)\n",
        "X_test.head(6)\n",
        "y_target.head(6)"
      ],
      "metadata": {
        "id": "vaLEbSFxjXwW"
      },
      "execution_count": null,
      "outputs": []
    },
    {
      "cell_type": "markdown",
      "source": [
        "# **Comenzamos con el modelo de prediccion**"
      ],
      "metadata": {
        "id": "XFSdEcP5jZjW"
      }
    },
    {
      "cell_type": "code",
      "source": [
        "Attributes=['atom_index_0','atom_index_1','type_0','x_0','y_0','z_0','atom_0',\n",
        "            'atom_1','x_1','y_1','z_1','dist_vector','dist_X','dist_Y','dist_Z']\n",
        "\n",
        "cat_attributes=['type_0','atom_0','atom_1']\n",
        "target_label=['scalar_coupling_constant']\n",
        "\n",
        "\n",
        "X_train=train_df[Attributes]\n",
        "X_test=test_df[Attributes]\n",
        "y_target=train_df[target_label]"
      ],
      "metadata": {
        "id": "jenkjAJ6je18"
      },
      "execution_count": null,
      "outputs": []
    },
    {
      "cell_type": "code",
      "source": [
        "X_train=pd.get_dummies(data=X_train,columns=cat_attributes)\n",
        "X_test=pd.get_dummies(data=X_test,columns=cat_attributes)"
      ],
      "metadata": {
        "id": "h54HWqwyjhEQ"
      },
      "execution_count": null,
      "outputs": []
    },
    {
      "cell_type": "code",
      "source": [
        "print(X_train.shape,X_test.shape)"
      ],
      "metadata": {
        "id": "2yDFlDvyjiv-"
      },
      "execution_count": null,
      "outputs": []
    },
    {
      "cell_type": "code",
      "source": [
        "X_train.head(6)\n",
        "y_target.head(6)"
      ],
      "metadata": {
        "id": "-yF8CXY-jkgy"
      },
      "execution_count": null,
      "outputs": []
    },
    {
      "cell_type": "code",
      "source": [
        "threshold=0.95\n",
        "\n",
        "corr_matrix=train_df.corr().abs()\n",
        "\n",
        "\n",
        "upper=corr_matrix.where(np.triu(np.ones(corr_matrix.shape),k=1).astype(np.bool))"
      ],
      "metadata": {
        "id": "IIM3Ylp7jnU-"
      },
      "execution_count": null,
      "outputs": []
    },
    {
      "cell_type": "code",
      "source": [
        "to_drop=[column for column in upper.columns if any(upper[column]>threshold)]\n",
        "print('There are are %d columns to remove.'%(len(to_drop)))"
      ],
      "metadata": {
        "id": "BsTUtpEcjoAF"
      },
      "execution_count": null,
      "outputs": []
    },
    {
      "cell_type": "code",
      "source": [
        "Attributes=['atom_index_0','atom_index_1','type_0','x_0','y_0','z_0','atom_0',\n",
        "            'atom_1','x_1','y_1','z_1','dist_vector','dist_X','dist_Y','dist_Z']\n",
        "\n",
        "cat_attributes=['type_0','atom_0','atom_1']\n",
        "target_label=['scalar_coupling_constant']\n",
        "\n",
        "\n",
        "X_train=train_df[Attributes]\n",
        "X_test=test_df[Attributes]\n",
        "y_target=train_df[target_label]"
      ],
      "metadata": {
        "id": "iqJMd29ejpwl"
      },
      "execution_count": null,
      "outputs": []
    },
    {
      "cell_type": "code",
      "source": [
        "X_train=pd.get_dummies(data=X_train,columns=cat_attributes)\n",
        "X_test=pd.get_dummies(data=X_test,columns=cat_attributes)"
      ],
      "metadata": {
        "id": "gmU8mQPpjrid"
      },
      "execution_count": null,
      "outputs": []
    },
    {
      "cell_type": "code",
      "source": [
        "\n",
        "print(X_train.shape,X_test.shape)"
      ],
      "metadata": {
        "id": "OCIjUTEIjtAc"
      },
      "execution_count": null,
      "outputs": []
    },
    {
      "cell_type": "code",
      "source": [
        "display(y_target.shape)"
      ],
      "metadata": {
        "id": "_YNA8C58jveF"
      },
      "execution_count": null,
      "outputs": []
    },
    {
      "cell_type": "code",
      "source": [
        "X_2=X_train\n",
        "y_2=y_target"
      ],
      "metadata": {
        "id": "5rzbFb8jjwNu"
      },
      "execution_count": null,
      "outputs": []
    },
    {
      "cell_type": "code",
      "source": [
        "X_train.head(6)\n",
        "X_test.head(6)\n",
        "y_target.head(6)"
      ],
      "metadata": {
        "id": "4Iu7mvPUjxzY"
      },
      "execution_count": null,
      "outputs": []
    },
    {
      "cell_type": "markdown",
      "source": [
        "# **Algoritmo de Greedy Forest**"
      ],
      "metadata": {
        "id": "JyQ3xanUjzoL"
      }
    },
    {
      "cell_type": "code",
      "source": [
        "from rgf.sklearn import RGFRegressor,FastRGFRegressor\n",
        "from sklearn.metrics import make_scorer,mean_squared_error\n",
        "from sklearn.model_selection import cross_val_score"
      ],
      "metadata": {
        "id": "fVCyw-oTj2zV"
      },
      "execution_count": null,
      "outputs": []
    },
    {
      "cell_type": "code",
      "source": [
        "rgf=RGFRegressor(max_leaf=500,algorithm='RGF_Sib',test_interval=100,\n",
        "                loss='LS',verbose=False)\n",
        "n_folds=3\n",
        "rgf_scores = cross_val_score(rgf,X_train,y_target,scoring=make_scorer(mean_squared_error,greater_is_better=False),cv=n_folds)\n",
        "rgf_score=sum(rgf_scores)/n_folds\n",
        "print('rgf_score:',rgf_score)"
      ],
      "metadata": {
        "id": "qQ2oLPbqj4uF"
      },
      "execution_count": null,
      "outputs": []
    },
    {
      "cell_type": "code",
      "source": [
        "rgf_model=rgf.fit(X_train,y_target)\n"
      ],
      "metadata": {
        "id": "K0s2tIZej6SG"
      },
      "execution_count": null,
      "outputs": []
    },
    {
      "cell_type": "code",
      "source": [
        "y_pred=rgf_model.predict(X_test)\n",
        "SCC=pd.read_csv('sample_submission.csv')#('../input/sample_submission.csv')\n",
        "SCC['scalar_coupling_constant']= y_pred\n",
        "SCC.to_csv('RGF_model.csv',index=False)\n",
        "y_pred"
      ],
      "metadata": {
        "id": "nfdK7Zfc9beh"
      },
      "execution_count": null,
      "outputs": []
    },
    {
      "cell_type": "code",
      "source": [
        "Frgf=FastRGFRegressor( opt_algorithm='rgf',l2=2000.0,\n",
        "                     min_child_weight=5.0,\n",
        "                     sparse_max_features=80000,\n",
        "                     sparse_min_occurences=5\n",
        "                     )\n",
        "Frgf=FastRGFRegressor(n_estimators=1000)\n",
        "n_folds=3\n",
        "Frgf_scores=cross_val_score(Frgf,X_train,y_target,\n",
        "                          scoring=make_scorer(mean_squared_error),\n",
        "                          cv=n_folds)\n",
        "Frgf_score=sum(Frgf_scores)/n_folds\n",
        "print('Frgf_score:',Frgf_score)\n",
        "print(Frgf)"
      ],
      "metadata": {
        "id": "2WHatqaf9dyT"
      },
      "execution_count": null,
      "outputs": []
    }
  ]
}