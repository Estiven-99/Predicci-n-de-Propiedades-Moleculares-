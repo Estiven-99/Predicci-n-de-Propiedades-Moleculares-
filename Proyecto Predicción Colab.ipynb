{
  "nbformat": 4,
  "nbformat_minor": 0,
  "metadata": {
    "colab": {
      "name": "Untitled2.ipynb",
      "provenance": [],
      "authorship_tag": "ABX9TyMoaH/Y/l9uXbIwYHKZNHbg",
      "include_colab_link": true
    },
    "kernelspec": {
      "name": "python3",
      "display_name": "Python 3"
    },
    "language_info": {
      "name": "python"
    }
  },
  "cells": [
    {
      "cell_type": "markdown",
      "metadata": {
        "id": "view-in-github",
        "colab_type": "text"
      },
      "source": [
        "<a href=\"https://colab.research.google.com/github/Estiven-99/Predicci-n-de-Propiedades-Moleculares-/blob/main/Proyecto%20Predicci%C3%B3n%20Colab.ipynb\" target=\"_parent\"><img src=\"https://colab.research.google.com/assets/colab-badge.svg\" alt=\"Open In Colab\"/></a>"
      ]
    },
    {
      "cell_type": "code",
      "source": [
        "!pip install -U -q kaggle\n",
        "!mkdir -p ~/.kaggle\n",
        "from google.colab import files\n",
        "files.upload()"
      ],
      "metadata": {
        "id": "4QvrAKkHnBO4",
        "outputId": "f9e1a61c-529b-43fe-8e4d-91e92f260f36",
        "colab": {
          "resources": {
            "http://localhost:8080/nbextensions/google.colab/files.js": {
              "data": "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",
              "ok": true,
              "headers": [
                [
                  "content-type",
                  "application/javascript"
                ]
              ],
              "status": 200,
              "status_text": ""
            }
          },
          "base_uri": "https://localhost:8080/",
          "height": 93
        }
      },
      "execution_count": 1,
      "outputs": [
        {
          "output_type": "display_data",
          "data": {
            "text/plain": [
              "<IPython.core.display.HTML object>"
            ],
            "text/html": [
              "\n",
              "     <input type=\"file\" id=\"files-e8c993b1-d712-468b-baa7-a70bdcdc67fb\" name=\"files[]\" multiple disabled\n",
              "        style=\"border:none\" />\n",
              "     <output id=\"result-e8c993b1-d712-468b-baa7-a70bdcdc67fb\">\n",
              "      Upload widget is only available when the cell has been executed in the\n",
              "      current browser session. Please rerun this cell to enable.\n",
              "      </output>\n",
              "      <script src=\"/nbextensions/google.colab/files.js\"></script> "
            ]
          },
          "metadata": {}
        },
        {
          "output_type": "stream",
          "name": "stdout",
          "text": [
            "Saving kaggle.json to kaggle (2).json\n"
          ]
        },
        {
          "output_type": "execute_result",
          "data": {
            "text/plain": [
              "{'kaggle.json': b'{\"username\":\"estivengutirrezprez\",\"key\":\"8ce1a58a8f75779bc69489354476ddfa\"}'}"
            ]
          },
          "metadata": {},
          "execution_count": 1
        }
      ]
    },
    {
      "cell_type": "code",
      "source": [
        "!cp kaggle.json ~/.kaggle/"
      ],
      "metadata": {
        "id": "Y-l4ugdAnB8F"
      },
      "execution_count": 2,
      "outputs": []
    },
    {
      "cell_type": "code",
      "source": [
        "!kaggle competitions download -c champs-scalar-coupling"
      ],
      "metadata": {
        "id": "4f7LA8KjnEhz",
        "outputId": "7040e7e1-5b04-4664-9c1a-84887c2cade4",
        "colab": {
          "base_uri": "https://localhost:8080/"
        }
      },
      "execution_count": 3,
      "outputs": [
        {
          "output_type": "stream",
          "name": "stdout",
          "text": [
            "Warning: Your Kaggle API key is readable by other users on this system! To fix this, you can run 'chmod 600 /root/.kaggle/kaggle.json'\n",
            "champs-scalar-coupling.zip: Skipping, found more recently modified local copy (use --force to force download)\n"
          ]
        }
      ]
    },
    {
      "cell_type": "code",
      "source": [
        "!unzip champs-scalar-coupling"
      ],
      "metadata": {
        "id": "9eCPkBktnGi8",
        "outputId": "3abe04e2-309c-4cbd-b9b5-818b9c5f045e",
        "colab": {
          "base_uri": "https://localhost:8080/"
        }
      },
      "execution_count": 4,
      "outputs": [
        {
          "output_type": "stream",
          "name": "stdout",
          "text": [
            "Archive:  champs-scalar-coupling.zip\n",
            "replace dipole_moments.csv? [y]es, [n]o, [A]ll, [N]one, [r]ename: "
          ]
        }
      ]
    },
    {
      "cell_type": "code",
      "execution_count": 5,
      "metadata": {
        "id": "ppyCsqcvMbW6"
      },
      "outputs": [],
      "source": [
        "#Primero importamos las librerias\n",
        "####################################################\n",
        "import numpy as np \n",
        "import pandas as pd\n",
        "import matplotlib.pyplot as plt\n",
        "import seaborn as sn\n",
        "import warnings\n",
        "warnings.filterwarnings('ignore')\n",
        "from sklearn.metrics import make_scorer,mean_squared_error\n",
        "from sklearn.model_selection import cross_val_score\n",
        "import random\n",
        "random.seed(42)\n",
        "import os\n",
        "#print(os.listdir(\"../input\"))\n",
        "\n"
      ]
    },
    {
      "cell_type": "code",
      "source": [
        "\n",
        "\n",
        "#Necesitamos los siguientes datos\n",
        "####################################################\n",
        "\n",
        "pot_energy=pd.read_csv('potential_energy.csv')\n",
        "mulliken_charges=pd.read_csv('mulliken_charges.csv')\n",
        "train_df=pd.read_csv('train.csv')\n",
        "scalar_coupling_cont=pd.read_csv('scalar_coupling_contributions.csv')\n",
        "test_df=pd.read_csv('test.csv')\n",
        "magnetic_shield_tensor=pd.read_csv('magnetic_shielding_tensors.csv')\n",
        "dipole_moment=pd.read_csv('dipole_moments.csv')\n",
        "structures=pd.read_csv('structures.csv')\n",
        "\n",
        "\n",
        "\n",
        "\n"
      ],
      "metadata": {
        "id": "WwaeLLc2elDH"
      },
      "execution_count": 6,
      "outputs": []
    },
    {
      "cell_type": "code",
      "source": [
        "print('Shape of potential energy dataset:',pot_energy.shape)\n",
        "print('Shape of mulliken_charges dataset:',mulliken_charges.shape)\n",
        "print('Shape of train dataset:',train_df.shape)\n",
        "print('Shape of scalar coupling contributions dataset:',scalar_coupling_cont.shape)\n",
        "print('Shape of test dataset:',test_df.shape)\n",
        "print('Shape of magnetic shielding tensors dataset:',magnetic_shield_tensor.shape)\n",
        "print('Shape of dipole moments dataset:',dipole_moment.shape)\n",
        "print('Shape of structures dataset:',structures.shape)\n",
        "\n",
        "\n",
        "\n",
        "\n"
      ],
      "metadata": {
        "id": "9P6s9ZuOero7",
        "outputId": "2c34d756-8c64-43fb-c376-bd445a5d755a",
        "colab": {
          "base_uri": "https://localhost:8080/"
        }
      },
      "execution_count": 7,
      "outputs": [
        {
          "output_type": "stream",
          "name": "stdout",
          "text": [
            "Shape of potential energy dataset: (130789, 2)\n",
            "Shape of mulliken_charges dataset: (2358875, 3)\n",
            "Shape of train dataset: (4659076, 6)\n",
            "Shape of scalar coupling contributions dataset: (4659076, 8)\n",
            "Shape of test dataset: (2505190, 5)\n",
            "Shape of magnetic shielding tensors dataset: (2358875, 11)\n",
            "Shape of dipole moments dataset: (130789, 4)\n",
            "Shape of structures dataset: (2358875, 6)\n"
          ]
        }
      ]
    },
    {
      "cell_type": "code",
      "source": [
        "#Exploramos los datasetes\n",
        "####################################################\n",
        "\n",
        "\n",
        "#Dataset de energia\n",
        "print('Data Types:\\n',pot_energy.dtypes)\n",
        "print('Descriptive statistics:\\n',np.round(pot_energy.describe(),3))\n",
        "pot_energy.head(6)\n",
        "\n",
        "\n",
        "\n",
        "#Datasetes de la carga\n",
        "print('Data Types:\\n',mulliken_charges.dtypes)\n",
        "print('Descriptive statistics:\\n',np.round(mulliken_charges.describe(),3))\n",
        "mulliken_charges.head(6)\n",
        "\n",
        "\n",
        "#Datasetes \n",
        "print('Data Types:\\n',train_df.dtypes)\n",
        "print('Descriptive statistics:\\n',np.round(train_df.describe(),3))\n",
        "train_df.head(6)\n",
        "\n",
        "\n",
        "\n",
        "#Datasetes del acople escalar\n",
        "print('Data Types:\\n',scalar_coupling_cont.dtypes)\n",
        "print('Descriptive statistics:\\n',np.round(scalar_coupling_cont.describe(),3))\n",
        "scalar_coupling_cont.head(6)\n",
        "\n",
        "#Dataset estadistico\n",
        "print('Data Types:\\n',test_df.dtypes)\n",
        "print('Descriptive statistics:\\n',np.round(test_df.describe(),3))\n",
        "test_df.head(6)\n",
        "\n",
        "#Dataset de tensor de campo magnetico\n",
        "print('Data Types:\\n',magnetic_shield_tensor.dtypes)\n",
        "print('Descriptive statistics:\\n',np.round(magnetic_shield_tensor.describe(),3))\n",
        "magnetic_shield_tensor.head(6)\n",
        "\n",
        "\n",
        "#Dataset de la estructura\n",
        "print('Data Types:\\n',structures.dtypes)\n",
        "print('Descriptive statistics:\\n',np.round(structures.describe(),3))\n",
        "structures.head(6)\n"
      ],
      "metadata": {
        "id": "x_WPXPdve5_I"
      },
      "execution_count": null,
      "outputs": []
    },
    {
      "cell_type": "code",
      "source": [
        "\n",
        "#######################################################################################\n",
        "#Mapa de la estructura atomica y prueba\n",
        "\n",
        "def map_atom_data(df,atom_idx):\n",
        "    df=pd.merge(df,structures,how='left',\n",
        "               left_on=['molecule_name',f'atom_index_{atom_idx}'],\n",
        "               right_on=['molecule_name','atom_index'])\n",
        "    df=df.drop('atom_index',axis=1)\n",
        "    df=df.rename(columns={'atom':f'atom_{atom_idx}',\n",
        "                         'x':f'x_{atom_idx}',\n",
        "                         'y':f'y_{atom_idx}',\n",
        "                         'z':f'z_{atom_idx}'})\n",
        "    return df\n",
        "\n",
        "train_df['type_0']=train_df['type'].apply(lambda x:x)\n",
        "test_df['type_0']=test_df['type'].apply(lambda x : x)\n",
        "\n",
        "train_df=train_df.drop(columns=['molecule_name','type'],axis=1)\n",
        "display(train_df.head(6))\n",
        "\n",
        "\n",
        "test_df=test_df.drop(columns=['molecule_name','type'],axis=1)\n",
        "display(test_df.head(10))\n",
        "\n",
        "\n"
      ],
      "metadata": {
        "id": "l8CJSjGHfAFM"
      },
      "execution_count": null,
      "outputs": []
    },
    {
      "cell_type": "code",
      "source": [
        "##############################################\n",
        "#Histograma de visualizacion\n",
        "\n",
        "train_df['type_0']=train_df.type_0.astype('category')\n",
        "train_df['atom_0']=train_df.atom_0.astype('category')\n",
        "train_df['atom_1']=train_df.atom_1.astype('category')\n",
        "\n",
        "\n",
        "test_df['type_0']=test_df.type_0.astype('category')\n",
        "test_df['atom_0']=test_df.atom_0.astype('category')\n",
        "test_df['atom_1']=test_df.atom_1.astype('category')\n",
        "\n",
        "plt.hist(train_df['scalar_coupling_constant'])\n",
        "plt.ylabel('No of times')\n",
        "plt.xlabel('scalar copling constant')\n",
        "plt.show()\n",
        "\n",
        "plt.hist(train_df['dist_vector'])\n",
        "plt.ylabel('No of times')\n",
        "plt.xlabel('Distance vector')\n",
        "plt.show()\n",
        "\n",
        "plt.hist(train_df['dist_X'])\n",
        "plt.ylabel('No of times')\n",
        "plt.xlabel('X distance vector')\n",
        "plt.show()\n",
        "\n",
        "\n",
        "plt.hist(train_df['dist_Y'])\n",
        "plt.ylabel('No of times')\n",
        "plt.xlabel('Y distance vector')\n",
        "plt.show()\n",
        "\n",
        "\n",
        "plt.hist(train_df['dist_Z'])\n",
        "plt.ylabel('No of times')\n",
        "plt.xlabel('Z distance vector')\n",
        "plt.show()\n",
        "\n",
        "train_df.head(5)\n",
        "\n"
      ],
      "metadata": {
        "id": "2uGY3J2ofGAe"
      },
      "execution_count": null,
      "outputs": []
    },
    {
      "cell_type": "code",
      "source": [
        "#########################################################333\n",
        "#Modelo de prediccion \n",
        "\n",
        "\n",
        "\n",
        "threshold=0.95\n",
        "corr_matrix=train_df.corr().abs()\n",
        "\n",
        "upper=corr_matrix.where(np.triu(np.ones(corr_matrix.shape),k=1).astype(np.bool))\n",
        "\n",
        "to_drop=[column for column in upper.columns if any(upper[column]>threshold)]\n",
        "print('There are are %d columns to remove.'%(len(to_drop)))\n",
        "\n",
        "train_df=train_df.drop(columns=to_drop)\n",
        "test_df=test_df.drop(columns=to_drop)\n",
        "print('Training data shape',train_df.shape)\n",
        "print('Testing data shape',test_df.shape)\n",
        "\n",
        "\n",
        "Attributes=['atom_index_0','atom_index_1','type_0','x_0','y_0','z_0','atom_0',\n",
        "            'atom_1','x_1','y_1','z_1','dist_vector','dist_X','dist_Y','dist_Z']\n",
        "\n",
        "cat_attributes=['type_0','atom_0','atom_1']\n",
        "target_label=['scalar_coupling_constant']\n",
        "\n",
        "\n",
        "X_train=train_df[Attributes]\n",
        "X_test=test_df[Attributes]\n",
        "y_target=train_df[target_label]\n",
        "\n",
        "X_train=pd.get_dummies(data=X_train,columns=cat_attributes)\n",
        "X_test=pd.get_dummies(data=X_test,columns=cat_attributes)\n",
        "\n",
        "print(X_train.shape,X_test.shape)\n",
        "display(y_target.shape)\n",
        "\n",
        "\n",
        "\n",
        "from sklearn.preprocessing import LabelEncoder\n",
        "for f in ['type','atom_index_0','atom_index_1','atom_0','atom_1']:\n",
        "    if f in good_columns:\n",
        "        lbl=LabelEncoder()\n",
        "        lbl.fit(list(X_train[f].values)+list(X_test[f].values))\n",
        "        X_train[f]=lbl.transform(list(X_train[f].values))\n",
        "        X_test[f]=lbl.transform(list(X_test[f].values))\n",
        "\n",
        "\n",
        "\n",
        "X_train.head(6)\n",
        "X_test.head(6)\n",
        "y_target.head(6)\n",
        "\n",
        "\n",
        "linear_reg=linear_model.LinearRegression()\n",
        "n_folds=5\n",
        "lin_reg_score=cross_val_score(linear_reg,X_train,y_target,\n",
        "                          scoring=make_scorer(mean_squared_error),\n",
        "                          cv=n_folds)\n",
        "lin_score=sum(lin_reg_score)/n_folds\n",
        "print('Lin_score:',lin_score)  \n",
        "\n",
        "\n",
        "lr_model=linear_reg.fit(X_train,y_target)\n",
        "score=np.round(lr_model.score(X_train,y_target),3)\n",
        "print('Accuracy of trained model:',score)\n",
        "model_coeff=np.round(lr_model.coef_,3)\n",
        "print('Model coefficients:',model_coeff)\n",
        "model_intercept=np.round(lr_model.intercept_,3)\n",
        "print('Model intercept value:',model_intercept)\n",
        "\n",
        "from sklearn.metrics import r2_score\n",
        "y_pred=lr_model.predict(X_test)\n",
        "SCC=pd.read_csv('../input/sample_submission.csv')\n",
        "SCC['scalar_coupling_constant']= y_pred\n",
        "SCC.to_csv('Linear_Regression_model.csv',index=False)\n",
        "\n",
        "\n",
        "\n",
        "#continua"
      ],
      "metadata": {
        "id": "L-ZRUnUYfLGr"
      },
      "execution_count": null,
      "outputs": []
    }
  ]
}